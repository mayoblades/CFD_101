{
 "cells": [
  {
   "cell_type": "code",
   "execution_count": 40,
   "id": "3703169c",
   "metadata": {},
   "outputs": [
    {
     "name": "stdout",
     "output_type": "stream",
     "text": [
      "Iterating.....please wait\n",
      "Iteration finished\n"
     ]
    },
    {
     "data": {
      "image/png": "[encoded data removed]",
      "text/plain": [
       "<Figure size 432x288 with 2 Axes>"
      ]
     },
     "metadata": {
      "needs_background": "light"
     },
     "output_type": "display_data"
    },
    {
     "name": "stdout",
     "output_type": "stream",
     "text": [
      "\n"
     ]
    }
   ],
   "source": [
    "\n",
    "    ################################################################\n",
    "    #\n",
    "    # CFD: 2D-Diffusion Temperature problem\n",
    "    # Objective: Solve equation using the Forward-Time Central-Space scheme\n",
    "    # Equation:The Laplace equation models for heat conduction \n",
    "    # Author: E.M. Adebayo\n",
    "    # Date: 05/08/2021\n",
    "    #\n",
    "    ################################################################\n",
    "\n",
    "    #===============================================================\n",
    "    # Libraries\n",
    "    #===============================================================\n",
    "\n",
    "    import matplotlib.pyplot as plt\n",
    "    import numpy as np\n",
    "    import math\n",
    "\n",
    "    from matplotlib import rc\n",
    "    rc('font', family='serif')\n",
    "    rc('lines', linewidth=1.5)\n",
    "    rc('font', size=16)\n",
    "    plt.rc('legend',**{'fontsize':14})\n",
    "\n",
    "    #===============================================================\n",
    "    # Parameters\n",
    "    #===============================================================\n",
    "    Nx = Ny=100;                      # Number of grid points\n",
    "    xmax=ymax = 1.0;                  # Domain limit to the right\n",
    "    xmin=ymin = 0.0;                 # Domain limit to the left\n",
    "    dx = dy= (xmax-xmin)/(Nx)         # Mesh size\n",
    "    T = np.zeros((Nx,Ny))             # T^n_i\n",
    "    T[0,:] = 1                        # Ttop Boundary Conditions\n",
    "    T[:,0] = 1                        # Tleft Boundary Conditions\n",
    "    maxIter =1000                     # Number of iterations\n",
    "\n",
    "\n",
    "    #===============================================================\n",
    "    # Discretisation\n",
    "    #===============================================================\n",
    "    x = np.linspace(xmin,xmax,Nx)     # Discretized Xmesh\n",
    "    y = np.linspace(ymin,ymax,Ny)     # Discretized Ymesh\n",
    "    T[Nx-1,:] = 1+x                   #Tbottom Boundary Conditions\n",
    "    T[:,Ny-1] = 1.5*math.pi*y)+1      #Tbottom Boundary Conditions\n",
    "\n",
    "\n",
    "    #===============================================================\n",
    "    # Iterations\n",
    "    #===============================================================\n",
    "    print(\"Iterating.....please wait\")\n",
    "    for iteration in range(0, maxIter):\n",
    "        for i in range(1, Nx-1):\n",
    "            for j in range(1, Ny-1):\n",
    "                T[i, j] = 0.25 * (T[i+1][j] + T[i-1][j] + T[i][j+1] + T[i][j-1])\n",
    "\n",
    "    print(\"Iteration finished\")\n",
    "\n",
    "\n",
    "    #===============================================================\n",
    "    # Configure the contour\n",
    "    #===============================================================\n",
    "\n",
    "    plt.title(\"Contour of Temperature\")\n",
    "    plt.contourf(x, y, T, 50,cmap='jet')\n",
    "\n",
    "    # Set Colorbar\n",
    "    plt.colorbar()\n",
    "    plt.savefig(\"LaplaceTemp\")\n",
    "\n",
    "    # Show the result in the plot window\n",
    "    plt.show()\n",
    "\n",
    "    print(\"\")\n"
   ]
  },
  {
   "cell_type": "code",
   "execution_count": null,
   "id": "6dc10b9f",
   "metadata": {},
   "outputs": [],
   "source": []
  },
  {
   "cell_type": "code",
   "execution_count": null,
   "id": "0cabf1f6",
   "metadata": {},
   "outputs": [],
   "source": []
  }
 ],
 "metadata": {
  "kernelspec": {
   "display_name": "Python 3 (ipykernel)",
   "language": "python",
   "name": "python3"
  },
  "language_info": {
   "codemirror_mode": {
    "name": "ipython",
    "version": 3
   },
   "file_extension": ".py",
   "mimetype": "text/x-python",
   "name": "python",
   "nbconvert_exporter": "python",
   "pygments_lexer": "ipython3",
   "version": "3.8.10"
  }
 },
 "nbformat": 4,
 "nbformat_minor": 5
}
